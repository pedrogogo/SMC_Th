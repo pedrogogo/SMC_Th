{
 "cells": [
  {
   "cell_type": "code",
   "execution_count": 1,
   "metadata": {
    "collapsed": false
   },
   "outputs": [],
   "source": [
    "import json\n",
    "from pprint import pprint\n",
    "import matplotlib.pyplot as plt\n",
    "import csv\n",
    "%matplotlib inline  \n",
    "import numpy as np\n",
    "from sklearn.multiclass import OneVsRestClassifier\n",
    "from sklearn.model_selection import train_test_split\n",
    "from sklearn.metrics import recall_score\n",
    "from sklearn.metrics import precision_score\n",
    "from sklearn.metrics import accuracy_score\n",
    "from sklearn.metrics import classification_report\n",
    "from sklearn.svm import SVC\n",
    "#uncomment to see all content when printing out.WARNING as will take longer to print and will fill in the screen!\n",
    "#np.set_printoptions(threshold=np.nan)\n",
    "  \n",
    "#loading json file and assign it to a variable.\n",
    "####the file is too large (even compressed) so it is not attached to github.####\n",
    "data = json.load(open('TDS_sound_analysis.json', 'rb'))\n",
    " \n",
    "#pprint(data) #printing just for checking for purposes. better uncommented as might slow down computer due to its size"
   ]
  },
  {
   "cell_type": "code",
   "execution_count": 2,
   "metadata": {
    "collapsed": false
   },
   "outputs": [],
   "source": [
    "#importing CSV files \n",
    "\n",
    "\n",
    "with open('csv_files/bright.csv', 'rb') as f:\n",
    "    reader = csv.reader(f)\n",
    "    bright_list_csv = list(reader)\n",
    "    #removing brackets from list. same for the rest of the csv files\n",
    "    bright_list = [l[0] for l in bright_list_csv]\n",
    "    \n",
    "with open('csv_files/warm.csv', 'rb') as f:\n",
    "    reader = csv.reader(f)\n",
    "    warm_list_csv = list(reader)\n",
    "    warm_list = [l[0] for l in warm_list_csv]\n",
    "    \n",
    "with open('csv_files/rough.csv', 'rb') as f:\n",
    "    reader = csv.reader(f)\n",
    "    rough_list_csv = map(tuple, reader)\n",
    "    rough_list = [l[0] for l in rough_list_csv]\n",
    "    \n",
    "with open('csv_files/reverb.csv', 'rb') as f:\n",
    "    reader = csv.reader(f)\n",
    "    reverb_list_csv = map(tuple, reader)\n",
    "    reverb_list = [l[0] for l in reverb_list_csv]\n",
    "    \n",
    "with open('csv_files/clear.csv', 'rb') as f:\n",
    "    reader = csv.reader(f)\n",
    "    clear_list_csv = list(reader)\n",
    "    clear_list = [l[0] for l in clear_list_csv]\n",
    "    \n",
    "with open('csv_files/hollow.csv', 'rb') as f:\n",
    "    reader = csv.reader(f)\n",
    "    hollow_list_csv = list(reader)\n",
    "    hollow_list = [l[0] for l in hollow_list_csv]\n",
    "    \n",
    "with open('csv_files/deep.csv', 'rb') as f:\n",
    "    reader = csv.reader(f)\n",
    "    deep_list_csv = list(reader)\n",
    "    deep_list = [l[0] for l in deep_list_csv]\n",
    "    \n",
    "with open('csv_files/punchy.csv', 'rb') as f:\n",
    "    reader = csv.reader(f)\n",
    "    punchy_list_csv = list(reader)\n",
    "    punchy_list = [l[0] for l in punchy_list_csv]\n",
    "    \n",
    "with open('csv_files/metallic.csv', 'rb') as f:\n",
    "    reader = csv.reader(f)\n",
    "    metallic_list_csv = list(reader)\n",
    "    metallic_list = [l[0] for l in metallic_list_csv]\n",
    "    \n",
    "with open('csv_files/sharp.csv', 'rb') as f:\n",
    "    reader = csv.reader(f)\n",
    "    sharp_list_csv = list(reader)\n",
    "    sharp_list = [l[0] for l in sharp_list_csv]\n",
    "    \n",
    "with open('csv_files/hard.csv', 'rb') as f:\n",
    "    reader = csv.reader(f)\n",
    "    hard_list_csv = list(reader) \n",
    "    hard_list = [l[0] for l in hard_list_csv]\n"
   ]
  },
  {
   "cell_type": "code",
   "execution_count": 3,
   "metadata": {
    "collapsed": false
   },
   "outputs": [],
   "source": [
    "#bright_list #check out content of this list, change name to other list (eg. hard_list) to see their content"
   ]
  },
  {
   "cell_type": "code",
   "execution_count": 4,
   "metadata": {
    "collapsed": true
   },
   "outputs": [],
   "source": [
    "#Number of UNIQUE sounds within the dataset\n",
    "nb_sounds = len(set(bright_list + hard_list +warm_list + rough_list + reverb_list + clear_list + hollow_list + deep_list + punchy_list + metallic_list + sharp_list))\n"
   ]
  },
  {
   "cell_type": "code",
   "execution_count": 5,
   "metadata": {
    "collapsed": false
   },
   "outputs": [
    {
     "data": {
      "text/plain": [
       "4298"
      ]
     },
     "execution_count": 5,
     "metadata": {},
     "output_type": "execute_result"
    }
   ],
   "source": [
    "#printing out to know number of sounds\n",
    "nb_sounds"
   ]
  },
  {
   "cell_type": "markdown",
   "metadata": {},
   "source": [
    "# COMPUTING DESCRIPTORS MEAN"
   ]
  },
  {
   "cell_type": "code",
   "execution_count": 6,
   "metadata": {
    "collapsed": false
   },
   "outputs": [],
   "source": [
    "#BRIGHT DESCRIPTORS\n",
    "sc_bright_mean = []\n",
    "sflux_bright_mean = []\n",
    "mfcc_bright_mean = []\n",
    "zcr_bright_mean = []\n",
    "trist_bright_mean = []\n",
    "oteher_bright_mean = []\n",
    "lat_bright_mean = []\n",
    "\n",
    "#HARD DESCRIPTORS\n",
    "sc_hard_mean = []\n",
    "sflux_hard_mean = []\n",
    "mfcc_hard_mean = []\n",
    "zcr_hard_mean = []\n",
    "trist_hard_mean = []\n",
    "oteher_hard_mean = []\n",
    "lat_hard_mean = []\n",
    "\n",
    "#WARM DESCRIPTORS\n",
    "sc_warm_mean = []\n",
    "sflux_warm_mean = []\n",
    "mfcc_warm_mean = []\n",
    "zcr_warm_mean = []\n",
    "trist_warm_mean = []\n",
    "oteher_warm_mean = []\n",
    "lat_warm_mean = []\n",
    "\n",
    "#ROUGH DESCRIPTORS\n",
    "sc_rough_mean = []\n",
    "sflux_rough_mean = []\n",
    "mfcc_rough_mean = []\n",
    "zcr_rough_mean = []\n",
    "trist_rough_mean = []\n",
    "oteher_rough_mean = []\n",
    "lat_rough_mean = []\n",
    "\n",
    "#REVERB DESCRIPTORS\n",
    "sc_reverb_mean = []\n",
    "sflux_reverb_mean = []\n",
    "mfcc_reverb_mean = []\n",
    "zcr_reverb_mean = []\n",
    "trist_reverb_mean = []\n",
    "oteher_reverb_mean = []\n",
    "lat_reverb_mean = []\n",
    "\n",
    "#CLEAR DESCRIPTORS\n",
    "sc_clear_mean = []\n",
    "sflux_clear_mean = []\n",
    "mfcc_clear_mean = []\n",
    "zcr_clear_mean = []\n",
    "trist_clear_mean = []\n",
    "oteher_clear_mean = []\n",
    "lat_clear_mean = []\n",
    "\n",
    "#HOLLOW DESCRIPTORS\n",
    "sc_hollow_mean = []\n",
    "sflux_hollow_mean = []\n",
    "mfcc_hollow_mean = []\n",
    "zcr_hollow_mean = []\n",
    "trist_hollow_mean = []\n",
    "oteher_hollow_mean = []\n",
    "lat_hollow_mean = []\n",
    "\n",
    "#DEEP DESCRIPTORS\n",
    "sc_deep_mean = []\n",
    "sflux_deep_mean = []\n",
    "mfcc_deep_mean = []\n",
    "zcr_deep_mean = []\n",
    "trist_deep_mean = []\n",
    "oteher_deep_mean = []\n",
    "lat_deep_mean = []\n",
    "\n",
    "#PUNCHY DESCRIPTORS\n",
    "sc_punchy_mean = []\n",
    "sflux_punchy_mean = []\n",
    "mfcc_punchy_mean = []\n",
    "zcr_punchy_mean = []\n",
    "trist_punchy_mean = []\n",
    "oteher_punchy_mean = []\n",
    "lat_punchy_mean = []\n",
    "\n",
    "#METALLIC DESCRIPTORS\n",
    "sc_metallic_mean = []\n",
    "sflux_metallic_mean = []\n",
    "mfcc_metallic_mean = []\n",
    "zcr_metallic_mean = []\n",
    "trist_metallic_mean = []\n",
    "oteher_metallic_mean = []\n",
    "lat_metallic_mean = []\n",
    "\n",
    "#SHARP DESCRIPTORS\n",
    "sc_sharp_mean = []\n",
    "sflux_sharp_mean = []\n",
    "mfcc_sharp_mean = []\n",
    "zcr_sharp_mean = []\n",
    "trist_sharp_mean = []\n",
    "oteher_sharp_mean = []\n",
    "lat_sharp_mean = []\n",
    "\n",
    "\n",
    "for fs_id in data:\n",
    "    if fs_id in bright_list: \n",
    "        #assigning \n",
    "        feature_vector_sc_mean_bright = data[fs_id][\"analysis_stats\"][\"lowlevel\"][\"spectral_centroid\"][\"mean\"] \n",
    "        feature_vector_sflux_mean_bright = data[fs_id][\"analysis_stats\"][\"lowlevel\"][\"spectral_flux\"][\"mean\"]\n",
    "        feature_vector_mfcc_mean_bright = data[fs_id][\"analysis_stats\"][\"lowlevel\"][\"mfcc\"][\"mean\"][1:] #removing 1st element,ie.energy\n",
    "        feature_vector_zcr_mean_bright = data[fs_id][\"analysis_stats\"][\"lowlevel\"][\"zerocrossingrate\"][\"mean\"]\n",
    "        feature_vector_trist_mean_bright = data[fs_id][\"analysis_stats\"][\"sfx\"][\"tristimulus\"][\"mean\"]\n",
    "        feature_vector_oteher_mean_bright = data[fs_id][\"analysis_stats\"][\"sfx\"][\"oddtoevenharmonicenergyratio\"][\"mean\"]\n",
    "        feature_vector_lat_mean_bright = data[fs_id][\"analysis_stats\"][\"sfx\"][\"logattacktime\"][\"mean\"]\n",
    "        \n",
    "        #appending. not sure if better outside or inside the for loop due to the iterations process...to be revised\n",
    "        sc_bright_mean.append(feature_vector_sc_mean_bright) \n",
    "        sflux_bright_mean.append(feature_vector_sflux_mean_bright)\n",
    "        mfcc_bright_mean.append(feature_vector_mfcc_mean_bright)\n",
    "        zcr_bright_mean.append(feature_vector_zcr_mean_bright)\n",
    "        trist_bright_mean.append(feature_vector_trist_mean_bright)\n",
    "        oteher_bright_mean.append(feature_vector_oteher_mean_bright)\n",
    "        lat_bright_mean.append(feature_vector_lat_mean_bright)\n",
    "        \n",
    "    if fs_id in hard_list:  \n",
    "        feature_vector_sc_mean_hard = data[fs_id][\"analysis_stats\"][\"lowlevel\"][\"spectral_centroid\"][\"mean\"] \n",
    "        feature_vector_sflux_mean_hard = data[fs_id][\"analysis_stats\"][\"lowlevel\"][\"spectral_flux\"][\"mean\"]\n",
    "        feature_vector_mfcc_mean_hard = data[fs_id][\"analysis_stats\"][\"lowlevel\"][\"mfcc\"][\"mean\"][1:] #removing 1st element,ie.energy\n",
    "        feature_vector_zcr_mean_hard = data[fs_id][\"analysis_stats\"][\"lowlevel\"][\"zerocrossingrate\"][\"mean\"]\n",
    "        feature_vector_trist_mean_hard = data[fs_id][\"analysis_stats\"][\"sfx\"][\"tristimulus\"][\"mean\"]\n",
    "        feature_vector_oteher_mean_hard = data[fs_id][\"analysis_stats\"][\"sfx\"][\"oddtoevenharmonicenergyratio\"][\"mean\"]            \n",
    "        feature_vector_lat_mean_hard = data[fs_id][\"analysis_stats\"][\"sfx\"][\"logattacktime\"][\"mean\"]\n",
    "\n",
    "        sc_hard_mean.append(feature_vector_sc_mean_hard)\n",
    "        sflux_hard_mean.append(feature_vector_sflux_mean_hard)\n",
    "        mfcc_hard_mean.append(feature_vector_mfcc_mean_hard)\n",
    "        zcr_hard_mean.append(feature_vector_zcr_mean_hard)\n",
    "        trist_hard_mean.append(feature_vector_trist_mean_hard)\n",
    "        oteher_hard_mean.append(feature_vector_oteher_mean_hard)\n",
    "        lat_hard_mean.append(feature_vector_lat_mean_hard)\n",
    "\n",
    "\n",
    "    if fs_id in warm_list: \n",
    "        feature_vector_sc_mean_warm = data[fs_id][\"analysis_stats\"][\"lowlevel\"][\"spectral_centroid\"][\"mean\"] \n",
    "        feature_vector_sflux_mean_warm = data[fs_id][\"analysis_stats\"][\"lowlevel\"][\"spectral_flux\"][\"mean\"]\n",
    "        feature_vector_mfcc_mean_warm = data[fs_id][\"analysis_stats\"][\"lowlevel\"][\"mfcc\"][\"mean\"][1:] #removing 1st element,ie.energy\n",
    "        feature_vector_zcr_mean_warm = data[fs_id][\"analysis_stats\"][\"lowlevel\"][\"zerocrossingrate\"][\"mean\"]\n",
    "        feature_vector_trist_mean_warm = data[fs_id][\"analysis_stats\"][\"sfx\"][\"tristimulus\"][\"mean\"]\n",
    "        feature_vector_oteher_mean_warm = data[fs_id][\"analysis_stats\"][\"sfx\"][\"oddtoevenharmonicenergyratio\"][\"mean\"]\n",
    "        feature_vector_lat_mean_warm = data[fs_id][\"analysis_stats\"][\"sfx\"][\"logattacktime\"][\"mean\"]\n",
    "\n",
    "\n",
    "        sc_warm_mean.append(feature_vector_sc_mean_warm) \n",
    "        sflux_warm_mean.append(feature_vector_sflux_mean_warm)\n",
    "        mfcc_warm_mean.append(feature_vector_mfcc_mean_warm)\n",
    "        zcr_warm_mean.append(feature_vector_zcr_mean_warm)\n",
    "        trist_warm_mean.append(feature_vector_trist_mean_warm)\n",
    "        oteher_warm_mean.append(feature_vector_oteher_mean_warm)\n",
    "        lat_warm_mean.append(feature_vector_lat_mean_warm)\n",
    "\n",
    "        \n",
    "    if fs_id in rough_list:  \n",
    "        feature_vector_sc_mean_rough = data[fs_id][\"analysis_stats\"][\"lowlevel\"][\"spectral_centroid\"][\"mean\"] \n",
    "        feature_vector_sflux_mean_rough = data[fs_id][\"analysis_stats\"][\"lowlevel\"][\"spectral_flux\"][\"mean\"]\n",
    "        feature_vector_mfcc_mean_rough = data[fs_id][\"analysis_stats\"][\"lowlevel\"][\"mfcc\"][\"mean\"][1:] #removing 1st element,ie.energy             \n",
    "        feature_vector_zcr_mean_rough = data[fs_id][\"analysis_stats\"][\"lowlevel\"][\"zerocrossingrate\"][\"mean\"]\n",
    "        feature_vector_trist_mean_rough = data[fs_id][\"analysis_stats\"][\"sfx\"][\"tristimulus\"][\"mean\"]\n",
    "        feature_vector_oteher_mean_rough = data[fs_id][\"analysis_stats\"][\"sfx\"][\"oddtoevenharmonicenergyratio\"][\"mean\"]\n",
    "        feature_vector_lat_mean_rough = data[fs_id][\"analysis_stats\"][\"sfx\"][\"logattacktime\"][\"mean\"]\n",
    "\n",
    "\n",
    "        sc_rough_mean.append(feature_vector_sc_mean_rough)\n",
    "        sflux_rough_mean.append(feature_vector_sflux_mean_rough)\n",
    "        mfcc_rough_mean.append(feature_vector_mfcc_mean_rough)\n",
    "        zcr_rough_mean.append(feature_vector_zcr_mean_rough)\n",
    "        trist_rough_mean.append(feature_vector_trist_mean_rough)\n",
    "        oteher_rough_mean.append(feature_vector_oteher_mean_rough)\n",
    "        lat_rough_mean.append(feature_vector_lat_mean_rough)\n",
    "        \n",
    "    if fs_id in reverb_list: \n",
    "        feature_vector_sc_mean_reverb = data[fs_id][\"analysis_stats\"][\"lowlevel\"][\"spectral_centroid\"][\"mean\"] \n",
    "        feature_vector_sflux_mean_reverb = data[fs_id][\"analysis_stats\"][\"lowlevel\"][\"spectral_flux\"][\"mean\"]\n",
    "        feature_vector_mfcc_mean_reverb = data[fs_id][\"analysis_stats\"][\"lowlevel\"][\"mfcc\"][\"mean\"][1:] #removing 1st element,ie.energy\n",
    "        feature_vector_zcr_mean_reverb = data[fs_id][\"analysis_stats\"][\"lowlevel\"][\"zerocrossingrate\"][\"mean\"]\n",
    "        feature_vector_trist_mean_reverb = data[fs_id][\"analysis_stats\"][\"sfx\"][\"tristimulus\"][\"mean\"]\n",
    "        feature_vector_oteher_mean_reverb = data[fs_id][\"analysis_stats\"][\"sfx\"][\"oddtoevenharmonicenergyratio\"][\"mean\"]\n",
    "        feature_vector_lat_mean_reverb = data[fs_id][\"analysis_stats\"][\"sfx\"][\"logattacktime\"][\"mean\"]\n",
    "\n",
    "        sc_reverb_mean.append(feature_vector_sc_mean_reverb) \n",
    "        sflux_reverb_mean.append(feature_vector_sflux_mean_reverb)\n",
    "        mfcc_reverb_mean.append(feature_vector_mfcc_mean_reverb)\n",
    "        zcr_reverb_mean.append(feature_vector_zcr_mean_reverb)\n",
    "        trist_reverb_mean.append(feature_vector_trist_mean_reverb)\n",
    "        oteher_reverb_mean.append(feature_vector_oteher_mean_reverb)\n",
    "        lat_reverb_mean.append(feature_vector_lat_mean_reverb)\n",
    "        \n",
    "    if fs_id in clear_list:  \n",
    "        feature_vector_sc_mean_clear = data[fs_id][\"analysis_stats\"][\"lowlevel\"][\"spectral_centroid\"][\"mean\"] \n",
    "        feature_vector_sflux_mean_clear = data[fs_id][\"analysis_stats\"][\"lowlevel\"][\"spectral_flux\"][\"mean\"]\n",
    "        feature_vector_mfcc_mean_clear = data[fs_id][\"analysis_stats\"][\"lowlevel\"][\"mfcc\"][\"mean\"][1:] #removing 1st element,ie.energy\n",
    "        feature_vector_zcr_mean_clear = data[fs_id][\"analysis_stats\"][\"lowlevel\"][\"zerocrossingrate\"][\"mean\"]\n",
    "        feature_vector_trist_mean_clear = data[fs_id][\"analysis_stats\"][\"sfx\"][\"tristimulus\"][\"mean\"]\n",
    "        feature_vector_oteher_mean_clear = data[fs_id][\"analysis_stats\"][\"sfx\"][\"oddtoevenharmonicenergyratio\"][\"mean\"]\n",
    "        feature_vector_lat_mean_clear = data[fs_id][\"analysis_stats\"][\"sfx\"][\"logattacktime\"][\"mean\"]\n",
    "\n",
    "        sc_clear_mean.append(feature_vector_sc_mean_clear)\n",
    "        sflux_clear_mean.append(feature_vector_sflux_mean_clear)\n",
    "        mfcc_clear_mean.append(feature_vector_mfcc_mean_clear)\n",
    "        zcr_clear_mean.append(feature_vector_zcr_mean_clear)\n",
    "        trist_clear_mean.append(feature_vector_trist_mean_clear)\n",
    "        oteher_clear_mean.append(feature_vector_oteher_mean_clear)\n",
    "        lat_clear_mean.append(feature_vector_lat_mean_clear)\n",
    "        \n",
    "    if fs_id in hollow_list: \n",
    "        feature_vector_sc_mean_hollow = data[fs_id][\"analysis_stats\"][\"lowlevel\"][\"spectral_centroid\"][\"mean\"] \n",
    "        feature_vector_sflux_mean_hollow = data[fs_id][\"analysis_stats\"][\"lowlevel\"][\"spectral_flux\"][\"mean\"]\n",
    "        feature_vector_mfcc_mean_hollow = data[fs_id][\"analysis_stats\"][\"lowlevel\"][\"mfcc\"][\"mean\"][1:] #removing 1st element,ie.energy\n",
    "        feature_vector_zcr_mean_hollow = data[fs_id][\"analysis_stats\"][\"lowlevel\"][\"zerocrossingrate\"][\"mean\"]\n",
    "        feature_vector_trist_mean_hollow = data[fs_id][\"analysis_stats\"][\"sfx\"][\"tristimulus\"][\"mean\"]\n",
    "        feature_vector_oteher_mean_hollow = data[fs_id][\"analysis_stats\"][\"sfx\"][\"oddtoevenharmonicenergyratio\"][\"mean\"]\n",
    "        feature_vector_lat_mean_hollow = data[fs_id][\"analysis_stats\"][\"sfx\"][\"logattacktime\"][\"mean\"]\n",
    "\n",
    "  \n",
    "        sc_hollow_mean.append(feature_vector_sc_mean_hollow) \n",
    "        sflux_hollow_mean.append(feature_vector_sflux_mean_hollow)\n",
    "        mfcc_hollow_mean.append(feature_vector_mfcc_mean_hollow)\n",
    "        zcr_hollow_mean.append(feature_vector_zcr_mean_hollow)\n",
    "        trist_hollow_mean.append(feature_vector_trist_mean_hollow)\n",
    "        oteher_hollow_mean.append(feature_vector_oteher_mean_hollow)\n",
    "        lat_hollow_mean.append(feature_vector_lat_mean_hollow)\n",
    "        \n",
    "    if fs_id in deep_list:  \n",
    "        feature_vector_sc_mean_deep = data[fs_id][\"analysis_stats\"][\"lowlevel\"][\"spectral_centroid\"][\"mean\"] \n",
    "        feature_vector_sflux_mean_deep = data[fs_id][\"analysis_stats\"][\"lowlevel\"][\"spectral_flux\"][\"mean\"]\n",
    "        feature_vector_mfcc_mean_deep = data[fs_id][\"analysis_stats\"][\"lowlevel\"][\"mfcc\"][\"mean\"][1:] #removing 1st element,ie.energy\n",
    "        feature_vector_zcr_mean_deep = data[fs_id][\"analysis_stats\"][\"lowlevel\"][\"zerocrossingrate\"][\"mean\"]\n",
    "        feature_vector_trist_mean_deep = data[fs_id][\"analysis_stats\"][\"sfx\"][\"tristimulus\"][\"mean\"]\n",
    "        feature_vector_oteher_mean_deep = data[fs_id][\"analysis_stats\"][\"sfx\"][\"oddtoevenharmonicenergyratio\"][\"mean\"]\n",
    "        feature_vector_lat_mean_deep = data[fs_id][\"analysis_stats\"][\"sfx\"][\"logattacktime\"][\"mean\"]\n",
    "\n",
    "        sc_deep_mean.append(feature_vector_sc_mean_deep)\n",
    "        sflux_deep_mean.append(feature_vector_sflux_mean_deep)\n",
    "        mfcc_deep_mean.append(feature_vector_mfcc_mean_deep)\n",
    "        zcr_deep_mean.append(feature_vector_zcr_mean_deep)\n",
    "        trist_deep_mean.append(feature_vector_trist_mean_deep)\n",
    "        oteher_deep_mean.append(feature_vector_oteher_mean_deep)        \n",
    "        lat_deep_mean.append(feature_vector_lat_mean_deep)\n",
    "        \n",
    "    if fs_id in punchy_list: \n",
    "        feature_vector_sc_mean_punchy = data[fs_id][\"analysis_stats\"][\"lowlevel\"][\"spectral_centroid\"][\"mean\"] \n",
    "        feature_vector_sflux_mean_punchy = data[fs_id][\"analysis_stats\"][\"lowlevel\"][\"spectral_flux\"][\"mean\"]\n",
    "        feature_vector_mfcc_mean_punchy = data[fs_id][\"analysis_stats\"][\"lowlevel\"][\"mfcc\"][\"mean\"][1:] #removing 1st element,ie.energy\n",
    "        feature_vector_zcr_mean_punchy = data[fs_id][\"analysis_stats\"][\"lowlevel\"][\"zerocrossingrate\"][\"mean\"]\n",
    "        feature_vector_trist_mean_punchy = data[fs_id][\"analysis_stats\"][\"sfx\"][\"tristimulus\"][\"mean\"]\n",
    "        feature_vector_oteher_mean_punchy = data[fs_id][\"analysis_stats\"][\"sfx\"][\"oddtoevenharmonicenergyratio\"][\"mean\"]\n",
    "        feature_vector_lat_mean_punchy = data[fs_id][\"analysis_stats\"][\"sfx\"][\"logattacktime\"][\"mean\"]\n",
    "\n",
    "        sc_punchy_mean.append(feature_vector_sc_mean_punchy) \n",
    "        sflux_punchy_mean.append(feature_vector_sflux_mean_punchy)\n",
    "        mfcc_punchy_mean.append(feature_vector_mfcc_mean_punchy)\n",
    "        zcr_punchy_mean.append(feature_vector_zcr_mean_punchy)\n",
    "        trist_punchy_mean.append(feature_vector_trist_mean_punchy)\n",
    "        oteher_punchy_mean.append(feature_vector_oteher_mean_punchy)\n",
    "        lat_punchy_mean.append(feature_vector_lat_mean_punchy)\n",
    "        \n",
    "    if fs_id in metallic_list:  \n",
    "        feature_vector_sc_mean_metallic = data[fs_id][\"analysis_stats\"][\"lowlevel\"][\"spectral_centroid\"][\"mean\"] \n",
    "        feature_vector_sflux_mean_metallic = data[fs_id][\"analysis_stats\"][\"lowlevel\"][\"spectral_flux\"][\"mean\"]\n",
    "        feature_vector_mfcc_mean_metallic = data[fs_id][\"analysis_stats\"][\"lowlevel\"][\"mfcc\"][\"mean\"][1:] #removing 1st element,ie.energy\n",
    "        feature_vector_zcr_mean_metallic = data[fs_id][\"analysis_stats\"][\"lowlevel\"][\"zerocrossingrate\"][\"mean\"]\n",
    "        feature_vector_trist_mean_metallic = data[fs_id][\"analysis_stats\"][\"sfx\"][\"tristimulus\"][\"mean\"]\n",
    "        feature_vector_oteher_mean_metallic = data[fs_id][\"analysis_stats\"][\"sfx\"][\"oddtoevenharmonicenergyratio\"][\"mean\"]\n",
    "        feature_vector_lat_mean_metallic = data[fs_id][\"analysis_stats\"][\"sfx\"][\"logattacktime\"][\"mean\"]\n",
    "      \n",
    "        sc_metallic_mean.append(feature_vector_sc_mean_metallic)\n",
    "        sflux_metallic_mean.append(feature_vector_sflux_mean_metallic)\n",
    "        mfcc_metallic_mean.append(feature_vector_mfcc_mean_metallic)\n",
    "        zcr_metallic_mean.append(feature_vector_zcr_mean_metallic)\n",
    "        trist_metallic_mean.append(feature_vector_trist_mean_metallic)\n",
    "        oteher_metallic_mean.append(feature_vector_oteher_mean_metallic)      \n",
    "        lat_metallic_mean.append(feature_vector_lat_mean_metallic)\n",
    "    \n",
    "    if fs_id in sharp_list:  \n",
    "        feature_vector_sc_mean_sharp = data[fs_id][\"analysis_stats\"][\"lowlevel\"][\"spectral_centroid\"][\"mean\"] \n",
    "        feature_vector_sflux_mean_sharp = data[fs_id][\"analysis_stats\"][\"lowlevel\"][\"spectral_flux\"][\"mean\"]\n",
    "        feature_vector_mfcc_mean_sharp = data[fs_id][\"analysis_stats\"][\"lowlevel\"][\"mfcc\"][\"mean\"][1:] #removing 1st element,ie.energy\n",
    "        feature_vector_zcr_mean_sharp = data[fs_id][\"analysis_stats\"][\"lowlevel\"][\"zerocrossingrate\"][\"mean\"]\n",
    "        feature_vector_trist_mean_sharp = data[fs_id][\"analysis_stats\"][\"sfx\"][\"tristimulus\"][\"mean\"]\n",
    "        feature_vector_oteher_mean_sharp = data[fs_id][\"analysis_stats\"][\"sfx\"][\"oddtoevenharmonicenergyratio\"][\"mean\"]\n",
    "        feature_vector_lat_mean_sharp = data[fs_id][\"analysis_stats\"][\"sfx\"][\"logattacktime\"][\"mean\"]\n",
    "    \n",
    "        sc_sharp_mean.append(feature_vector_sc_mean_sharp)\n",
    "        sflux_sharp_mean.append(feature_vector_sflux_mean_sharp)\n",
    "        mfcc_sharp_mean.append(feature_vector_mfcc_mean_sharp)\n",
    "        zcr_sharp_mean.append(feature_vector_zcr_mean_sharp)\n",
    "        trist_sharp_mean.append(feature_vector_trist_mean_sharp)\n",
    "        oteher_sharp_mean.append(feature_vector_oteher_mean_sharp)       \n",
    "        lat_sharp_mean.append(feature_vector_lat_mean_sharp)\n",
    "        \n",
    "        \n",
    "#creating numpy arrays       \n",
    "sc_bright_mean = np.array(sc_bright_mean)\n",
    "sflux_bright_mean = np.array(sflux_bright_mean)\n",
    "mfcc_bright_mean = np.array(mfcc_bright_mean)\n",
    "zcr_bright_mean = np.array(zcr_bright_mean)\n",
    "trist_bright_mean = np.array(trist_bright_mean)\n",
    "oteher_bright_mean = np.array(oteher_bright_mean)\n",
    "lat_bright_mean = np.array(lat_bright_mean)\n",
    "\n",
    "sc_hard_mean = np.array(sc_hard_mean)\n",
    "sflux_hard_mean = np.array(sflux_hard_mean)\n",
    "mfcc_hard_mean = np.array(mfcc_hard_mean)\n",
    "zcr_hard_mean = np.array(zcr_hard_mean)\n",
    "trist_hard_mean = np.array(trist_hard_mean)\n",
    "oteher_hard_mean = np.array(oteher_hard_mean)\n",
    "lat_hard_mean = np.array(lat_hard_mean)\n",
    "\n",
    "sc_warm_mean = np.array(sc_warm_mean)\n",
    "sflux_warm_mean = np.array(sflux_warm_mean)\n",
    "mfcc_warm_mean = np.array(mfcc_warm_mean)\n",
    "zcr_warm_mean = np.array(zcr_warm_mean)\n",
    "trist_warm_mean = np.array(trist_warm_mean)\n",
    "oteher_warm_mean = np.array(oteher_warm_mean)\n",
    "lat_warm_mean = np.array(lat_warm_mean)\n",
    "\n",
    "sc_rough_mean = np.array(sc_rough_mean)\n",
    "sflux_rough_mean = np.array(sflux_rough_mean)\n",
    "mfcc_rough_mean = np.array(mfcc_rough_mean)\n",
    "zcr_rough_mean = np.array(zcr_rough_mean)\n",
    "trist_rough_mean = np.array(trist_rough_mean)\n",
    "oteher_rough_mean = np.array(oteher_rough_mean)\n",
    "lat_rough_mean = np.array(lat_rough_mean)\n",
    "\n",
    "sc_reverb_mean = np.array(sc_reverb_mean)\n",
    "sflux_reverb_mean = np.array(sflux_reverb_mean)\n",
    "mfcc_reverb_mean = np.array(mfcc_reverb_mean)\n",
    "zcr_reverb_mean = np.array(zcr_reverb_mean)\n",
    "trist_reverb_mean = np.array(trist_reverb_mean)\n",
    "oteher_reverb_mean = np.array(oteher_reverb_mean)\n",
    "lat_reverb_mean = np.array(lat_reverb_mean)\n",
    "\n",
    "sc_clear_mean = np.array(sc_clear_mean)\n",
    "sflux_clear_mean = np.array(sflux_clear_mean)\n",
    "mfcc_clear_mean = np.array(mfcc_clear_mean)\n",
    "zcr_clear_mean = np.array(zcr_clear_mean)\n",
    "trist_clear_mean = np.array(trist_clear_mean)\n",
    "oteher_clear_mean = np.array(oteher_clear_mean)\n",
    "lat_clear_mean = np.array(lat_clear_mean)\n",
    "\n",
    "sc_hollow_mean = np.array(sc_hollow_mean)\n",
    "sflux_hollow_mean = np.array(sflux_hollow_mean)\n",
    "mfcc_hollow_mean = np.array(mfcc_hollow_mean)\n",
    "zcr_hollow_mean = np.array(zcr_hollow_mean)\n",
    "trist_hollow_mean = np.array(trist_hollow_mean)\n",
    "oteher_hollow_mean = np.array(oteher_hollow_mean)\n",
    "lat_hollow_mean = np.array(lat_hollow_mean)\n",
    "\n",
    "sc_deep_mean = np.array(sc_deep_mean)\n",
    "sflux_deep_mean = np.array(sflux_deep_mean)\n",
    "mfcc_deep_mean = np.array(mfcc_deep_mean)\n",
    "zcr_deep_mean = np.array(zcr_deep_mean)\n",
    "trist_deep_mean = np.array(trist_deep_mean)\n",
    "oteher_deep_mean = np.array(oteher_deep_mean)\n",
    "lat_deep_mean = np.array(lat_deep_mean)\n",
    "\n",
    "sc_punchy_mean = np.array(sc_punchy_mean)\n",
    "sflux_punchy_mean = np.array(sflux_punchy_mean)\n",
    "mfcc_punchy_mean = np.array(mfcc_punchy_mean)\n",
    "zcr_punchy_mean = np.array(zcr_punchy_mean)\n",
    "trist_punchy_mean = np.array(trist_punchy_mean)\n",
    "oteher_punchy_mean = np.array(oteher_punchy_mean)\n",
    "lat_punchy_mean = np.array(lat_punchy_mean)\n",
    "\n",
    "sc_metallic_mean = np.array(sc_metallic_mean)\n",
    "sflux_metallic_mean = np.array(sflux_metallic_mean)\n",
    "mfcc_metallic_mean = np.array(mfcc_metallic_mean)\n",
    "zcr_metallic_mean = np.array(zcr_metallic_mean)\n",
    "trist_metallic_mean = np.array(trist_metallic_mean)\n",
    "oteher_metallic_mean = np.array(oteher_metallic_mean)\n",
    "lat_metallic_mean = np.array(lat_metallic_mean)\n",
    "\n",
    "sc_sharp_mean = np.array(sc_sharp_mean)\n",
    "sflux_sharp_mean = np.array(sflux_sharp_mean)\n",
    "mfcc_sharp_mean = np.array(mfcc_sharp_mean)\n",
    "zcr_sharp_mean = np.array(zcr_sharp_mean)\n",
    "trist_sharp_mean = np.array(trist_sharp_mean)\n",
    "oteher_sharp_mean = np.array(oteher_sharp_mean)\n",
    "lat_sharp_mean = np.array(lat_sharp_mean)\n",
    "\n"
   ]
  },
  {
   "cell_type": "markdown",
   "metadata": {},
   "source": [
    "# SPECTRAL CENTROIDS boxplots"
   ]
  },
  {
   "cell_type": "code",
   "execution_count": 7,
   "metadata": {
    "collapsed": false
   },
   "outputs": [
    {
     "data": {
      "image/png": "[encoded data removed]",
      "text/plain": [
       "<matplotlib.figure.Figure at 0x105eab190>"
      ]
     },
     "metadata": {},
     "output_type": "display_data"
    }
   ],
   "source": [
    "\n",
    "## combine these different collections into a list    \n",
    "data_to_plot_sc = [sc_bright_mean,sc_hard_mean,sc_warm_mean,sc_rough_mean,sc_reverb_mean,sc_clear_mean,sc_hollow_mean,sc_deep_mean, sc_punchy_mean, sc_metallic_mean, sc_sharp_mean]\n",
    "\n",
    "# Create a figure instance\n",
    "fig = plt.figure(1, figsize=(9, 6))\n",
    "\n",
    "# Create an axes instance\n",
    "ax = fig.add_subplot(111)\n",
    "#ax.set_xlabel('SPECTRAL CENTROID All Atributes comparison')\n",
    "plt.xticks([1, 2, 3,4,5,6,7,8,9,10,11], ['bright', 'hard', 'warm','rough','reverb','clear','hollow','deep','punchy','metallic','sharp'])\n",
    "\n",
    "# Create the boxplot\n",
    "plt.title ('SPECTRAL CENTROID attributes mean')\n",
    "bp = ax.boxplot(data_to_plot_sc)\n"
   ]
  },
  {
   "cell_type": "markdown",
   "metadata": {},
   "source": [
    "# SPECTRAL FLUX boxplots"
   ]
  },
  {
   "cell_type": "code",
   "execution_count": 8,
   "metadata": {
    "collapsed": false
   },
   "outputs": [
    {
     "data": {
      "image/png": "[encoded data removed]",
      "text/plain": [
       "<matplotlib.figure.Figure at 0x105e9d5d0>"
      ]
     },
     "metadata": {},
     "output_type": "display_data"
    }
   ],
   "source": [
    "## combine these different collections into a list    \n",
    "data_to_plot_sflux = [sflux_bright_mean,sflux_hard_mean,sflux_warm_mean,sflux_rough_mean,sflux_reverb_mean,sflux_clear_mean,sflux_hollow_mean,sflux_deep_mean, sflux_punchy_mean, sflux_metallic_mean, sflux_sharp_mean]\n",
    "\n",
    "# Create a figure instance\n",
    "fig = plt.figure(1, figsize=(9, 6))\n",
    "\n",
    "# Create an axes instance\n",
    "ax = fig.add_subplot(111)\n",
    "plt.xticks([1, 2, 3,4,5,6,7,8,9,10,11], ['bright', 'hard', 'warm','rough','reverb','clear','hollow','deep','punchy','metallic','sharp'])\n",
    "\n",
    "\n",
    "# Create the boxplot\n",
    "plt.title ('SPECTRAL FLUX attributes mean')\n",
    "bp = ax.boxplot(data_to_plot_sflux)"
   ]
  },
  {
   "cell_type": "markdown",
   "metadata": {},
   "source": [
    "# MFCC boxplots (note there are 12 values, so needs considering"
   ]
  },
  {
   "cell_type": "code",
   "execution_count": 9,
   "metadata": {
    "collapsed": false
   },
   "outputs": [
    {
     "data": {
      "image/png": "[encoded data removed]",
      "text/plain": [
       "<matplotlib.figure.Figure at 0x129152250>"
      ]
     },
     "metadata": {},
     "output_type": "display_data"
    }
   ],
   "source": [
    "\n",
    "## combine these different collections into a list    \n",
    "data_to_plot_mfcc = [mfcc_bright_mean,mfcc_hard_mean,mfcc_warm_mean,mfcc_rough_mean,mfcc_reverb_mean,mfcc_clear_mean,mfcc_hollow_mean,mfcc_deep_mean, mfcc_punchy_mean, mfcc_metallic_mean, mfcc_sharp_mean]\n",
    "\n",
    "# Create a figure instance\n",
    "fig = plt.figure(1, figsize=(9, 6))\n",
    "\n",
    "# Create an axes instance\n",
    "ax = fig.add_subplot(111)\n",
    "plt.xticks([1, 2, 3,4,5,6,7,8,9,10,11], ['bright', 'hard', 'warm','rough','reverb','clear','hollow','deep','punchy','metallic','sharp'])\n",
    "\n",
    "\n",
    "\n",
    "# Create the boxplot\n",
    "plt.title ('MFCC attributes mean')\n",
    "bp = ax.boxplot(data_to_plot_mfcc)"
   ]
  },
  {
   "cell_type": "code",
   "execution_count": 10,
   "metadata": {
    "collapsed": false
   },
   "outputs": [
    {
     "data": {
      "text/plain": [
       "array([[ -8.7269808 ,  -0.66147424,  -0.41374043, ...,  -0.75538062,\n",
       "         -4.02860973,   6.68213778],\n",
       "       [-27.00282211,  -3.2858612 ,  20.98407711, ...,   0.27151186,\n",
       "          1.58458889,  -0.46440712],\n",
       "       [ -1.51784098, -47.11845818,  -5.26246472, ...,  29.46572601,\n",
       "         48.22119389,  32.81483793],\n",
       "       ..., \n",
       "       [-19.75702913, -29.35418373, -30.21513982, ...,  -9.72480111,\n",
       "         11.37203215,  -3.7164804 ],\n",
       "       [  2.0533294 , -27.96635125,  -5.05391004, ..., -22.86427618,\n",
       "        -20.0273316 , -12.37977896],\n",
       "       [-57.94337924,   4.15400221,   3.3160858 , ...,  15.5887638 ,\n",
       "        -12.43289063, -23.57237041]])"
      ]
     },
     "execution_count": 10,
     "metadata": {},
     "output_type": "execute_result"
    }
   ],
   "source": [
    "mfcc_bright_mean"
   ]
  },
  {
   "cell_type": "markdown",
   "metadata": {},
   "source": [
    "# ZERO CROSSING RATE boxplots"
   ]
  },
  {
   "cell_type": "code",
   "execution_count": 11,
   "metadata": {
    "collapsed": false
   },
   "outputs": [
    {
     "data": {
      "image/png": "[encoded data removed]",
      "text/plain": [
       "<matplotlib.figure.Figure at 0x106e2ef90>"
      ]
     },
     "metadata": {},
     "output_type": "display_data"
    }
   ],
   "source": [
    "\n",
    "## combine these different collections into a list    \n",
    "data_to_plot_zcr = [zcr_bright_mean,zcr_hard_mean,zcr_warm_mean,zcr_rough_mean,zcr_reverb_mean,zcr_clear_mean,zcr_hollow_mean,zcr_deep_mean, zcr_punchy_mean, zcr_metallic_mean, zcr_sharp_mean]\n",
    "\n",
    "# Create a figure instance\n",
    "fig = plt.figure(1, figsize=(9, 6))\n",
    "\n",
    "# Create an axes instance\n",
    "ax = fig.add_subplot(111)\n",
    "plt.xticks([1, 2, 3,4,5,6,7,8,9,10,11], ['bright', 'hard', 'warm','rough','reverb','clear','hollow','deep','punchy','metallic','sharp'])\n",
    "\n",
    "\n",
    "# Create the boxplot\n",
    "plt.title ('Zero Crossing Rate attributes mean')\n",
    "bp = ax.boxplot(data_to_plot_zcr)"
   ]
  },
  {
   "cell_type": "markdown",
   "metadata": {},
   "source": [
    "# TRISTIMULUS boxplots (note there are 3 values, so need considering)"
   ]
  },
  {
   "cell_type": "code",
   "execution_count": 12,
   "metadata": {
    "collapsed": false
   },
   "outputs": [
    {
     "data": {
      "image/png": "[encoded data removed]",
      "text/plain": [
       "<matplotlib.figure.Figure at 0x11107ba50>"
      ]
     },
     "metadata": {},
     "output_type": "display_data"
    }
   ],
   "source": [
    "\n",
    "## combine these different collections into a list    \n",
    "data_to_plot_trist = [trist_bright_mean,trist_hard_mean,trist_warm_mean,trist_rough_mean,trist_reverb_mean,trist_clear_mean,trist_hollow_mean,trist_deep_mean, trist_punchy_mean, trist_metallic_mean, trist_sharp_mean]\n",
    "\n",
    "# Create a figure instance\n",
    "fig = plt.figure(1, figsize=(9, 6))\n",
    "\n",
    "# Create an axes instance\n",
    "ax = fig.add_subplot(111)\n",
    "plt.xticks([1, 2, 3,4,5,6,7,8,9,10,11], ['bright', 'hard', 'warm','rough','reverb','clear','hollow','deep','punchy','metallic','sharp'])\n",
    "\n",
    "\n",
    "# Create the boxplot\n",
    "plt.title ('Tristimulus attributes mean')\n",
    "bp = ax.boxplot(data_to_plot_trist)"
   ]
  },
  {
   "cell_type": "markdown",
   "metadata": {},
   "source": [
    "# Odd to even harmonic energy ratio boxplots "
   ]
  },
  {
   "cell_type": "code",
   "execution_count": 13,
   "metadata": {
    "collapsed": false
   },
   "outputs": [
    {
     "data": {
      "image/png": "[encoded data removed]",
      "text/plain": [
       "<matplotlib.figure.Figure at 0x110cd2f90>"
      ]
     },
     "metadata": {},
     "output_type": "display_data"
    }
   ],
   "source": [
    "\n",
    "## combine these different collections into a list    \n",
    "data_to_plot_oteher = [oteher_bright_mean,oteher_hard_mean,oteher_warm_mean,oteher_rough_mean,oteher_reverb_mean,oteher_clear_mean,oteher_hollow_mean,oteher_deep_mean, oteher_punchy_mean, oteher_metallic_mean, oteher_sharp_mean]\n",
    "\n",
    "# Create a figure instance\n",
    "fig = plt.figure(1, figsize=(9, 6))\n",
    "\n",
    "# Create an axes instance\n",
    "ax = fig.add_subplot(111)\n",
    "plt.xticks([1, 2, 3,4,5,6,7,8,9,10,11], ['bright', 'hard', 'warm','rough','reverb','clear','hollow','deep','punchy','metallic','sharp'])\n",
    "\n",
    "\n",
    "# Create the boxplot\n",
    "plt.title ('Odd to Even Harmonic Energy Ratio attributes mean')\n",
    "bp = ax.boxplot(data_to_plot_oteher)"
   ]
  },
  {
   "cell_type": "markdown",
   "metadata": {},
   "source": [
    "# Log attack time boxplots "
   ]
  },
  {
   "cell_type": "code",
   "execution_count": 14,
   "metadata": {
    "collapsed": false
   },
   "outputs": [
    {
     "data": {
      "image/png": "[encoded data removed]",
      "text/plain": [
       "<matplotlib.figure.Figure at 0x105e150d0>"
      ]
     },
     "metadata": {},
     "output_type": "display_data"
    }
   ],
   "source": [
    "\n",
    "## combine these different collections into a list    \n",
    "data_to_plot_lat = [lat_bright_mean,lat_hard_mean,lat_warm_mean,lat_rough_mean,lat_reverb_mean,lat_clear_mean,lat_hollow_mean,lat_deep_mean, lat_punchy_mean, lat_metallic_mean, lat_sharp_mean]\n",
    "\n",
    "# Create a figure instance\n",
    "fig = plt.figure(1, figsize=(9, 6))\n",
    "\n",
    "# Create an axes instance\n",
    "ax = fig.add_subplot(111)\n",
    "plt.xticks([1, 2, 3,4,5,6,7,8,9,10,11], ['bright', 'hard', 'warm','rough','reverb','clear','hollow','deep','punchy','metallic','sharp'])\n",
    "\n",
    "\n",
    "# Create the boxplot\n",
    "plt.title ('Log Attack Time attributes mean')\n",
    "bp = ax.boxplot(data_to_plot_lat)"
   ]
  },
  {
   "cell_type": "code",
   "execution_count": 67,
   "metadata": {
    "collapsed": false
   },
   "outputs": [],
   "source": [
    "#just checking\n",
    "#[data[fs_id][\"analysis_stats\"][\"lowlevel\"][\"mfcc\"]]"
   ]
  },
  {
   "cell_type": "markdown",
   "metadata": {
    "collapsed": false
   },
   "source": [
    "# ML  FEATURE CREATION stage"
   ]
  },
  {
   "cell_type": "code",
   "execution_count": 68,
   "metadata": {
    "collapsed": false
   },
   "outputs": [],
   "source": [
    "#creating matrix X for computing OvR\n",
    "X = []\n",
    "\n",
    "for fs_id in data:\n",
    "    \n",
    "    feature_vector = [data[fs_id][\"analysis_stats\"][\"lowlevel\"][\"spectral_centroid\"][\"mean\"]] + data[fs_id][\"analysis_stats\"][\"lowlevel\"][\"mfcc\"][\"mean\"] + [data[fs_id][\"analysis_stats\"][\"lowlevel\"][\"spectral_flux\"][\"mean\"]] + data[fs_id][\"analysis_stats\"][\"sfx\"][\"tristimulus\"][\"mean\"] + [data[fs_id][\"analysis_stats\"][\"sfx\"][\"oddtoevenharmonicenergyratio\"][\"mean\"]] + [data[fs_id][\"analysis_stats\"][\"lowlevel\"][\"zerocrossingrate\"][\"mean\"]]\n",
    "    #print fs_id\n",
    "\n",
    "\n",
    "    #whole vector with all features\n",
    "    #feature_vector = [data[fs_id][\"analysis_stats\"][\"lowlevel\"][\"spectral_centroid\"][\"mean\"]] + data[fs_id][\"analysis_stats\"][\"lowlevel\"][\"mfcc\"][\"mean\"] + [data[fs_id][\"analysis_stats\"][\"lowlevel\"][\"spectral_flux\"][\"mean\"]] + data[fs_id][\"analysis_stats\"][\"sfx\"][\"tristimulus\"][\"mean\"] + [data[fs_id][\"analysis_stats\"][\"sfx\"][\"oddtoevenharmonicenergyratio\"][\"mean\"]] + [data[fs_id][\"analysis_stats\"][\"lowlevel\"][\"zerocrossingrate\"][\"mean\"]]\n",
    "    \n",
    "    \n",
    "#print feature_vector\n",
    "    X.append(feature_vector)\n",
    "\n",
    "\n",
    "#all features, not used at the moment   \n",
    "X = np.array(X)\n",
    "\n",
    "#len(feature_vector) \n",
    "#len(X)\n",
    "#X  #printing out matrix \n"
   ]
  },
  {
   "cell_type": "code",
   "execution_count": 69,
   "metadata": {
    "collapsed": false
   },
   "outputs": [
    {
     "data": {
      "text/plain": [
       "array([[  4.23977942e+01,  -1.02425687e+03,   1.28074233e+02, ...,\n",
       "          1.66427013e-03,   0.00000000e+00,   5.09982232e-03],\n",
       "       [  1.26157631e+03,  -8.60440806e+02,   1.00133006e+02, ...,\n",
       "          8.53417868e-02,   0.00000000e+00,   6.15234451e-02],\n",
       "       [  5.37955637e+01,  -1.08219886e+03,   7.20411971e+01, ...,\n",
       "          1.94026635e-03,   0.00000000e+00,   2.69052645e-03],\n",
       "       ..., \n",
       "       [  7.83206793e+02,  -1.03737022e+03,   8.62930260e+01, ...,\n",
       "          3.99713491e-02,   0.00000000e+00,   4.54545475e-02],\n",
       "       [  7.54148732e+03,  -8.73604564e+02,  -5.79433792e+01, ...,\n",
       "          2.12151512e-01,   0.00000000e+00,   3.14355443e-01],\n",
       "       [  4.94734816e+03,  -9.93832024e+02,   3.08106768e+01, ...,\n",
       "          1.08830351e-01,   0.00000000e+00,   2.28476230e-01]])"
      ]
     },
     "execution_count": 69,
     "metadata": {},
     "output_type": "execute_result"
    }
   ],
   "source": [
    "X"
   ]
  },
  {
   "cell_type": "code",
   "execution_count": 70,
   "metadata": {
    "collapsed": false
   },
   "outputs": [
    {
     "data": {
      "text/plain": [
       "(4731, 20)"
      ]
     },
     "execution_count": 70,
     "metadata": {},
     "output_type": "execute_result"
    }
   ],
   "source": [
    "X.shape\n",
    "#might need to remove duplicates"
   ]
  },
  {
   "cell_type": "code",
   "execution_count": 71,
   "metadata": {
    "collapsed": true
   },
   "outputs": [],
   "source": [
    "#creating y matrix Freesound IDs Vs Attributes' lists\n",
    "\n",
    "y = []\n",
    "NB_SOUNDS = len(X)  #here will get same result if using \"all_ids_intersection\" instead of \"X\"\n",
    "NB_LABELS = 11 #number of lists_attributes availables.\n",
    "\n",
    "y = np.zeros((NB_SOUNDS, NB_LABELS), dtype=int)\n",
    "\n",
    "for idx, sound_id in enumerate(data): # going through all the lines\n",
    "    if sound_id in bright_list: #  if the sound is in bright list...same for others\n",
    "        y[idx][0] = 1 # add a 1 for each line (soundid) \"idx\" and the columns (label) 0....\n",
    "    if sound_id in hard_list: \n",
    "        y[idx][1] = 1 # add a 1 for each line (soundid) \"idx\" and the columns (label) 1....\n",
    "    if sound_id in warm_list:  \n",
    "        y[idx][2] = 1 # add a 1 for each line (soundid) \"idx\" and the columns (label) 2....\n",
    "    if sound_id in rough_list: \n",
    "        y[idx][3] = 1 # add a 1 for each line (soundid) \"idx\" and the columns (label) 3....\n",
    "    if sound_id in reverb_list: \n",
    "        y[idx][4] = 1 # add a 1 for each line (soundid) \"idx\" and the columns (label) 4....\n",
    "    if sound_id in clear_list: \n",
    "        y[idx][5] = 1 # add a 1 for each line (soundid) \"idx\" and the columns (label) 5....\n",
    "    if sound_id in hollow_list: \n",
    "        y[idx][6] = 1 # add a 1 for each line (soundid) \"idx\" and the columns (label) 6....\n",
    "    if sound_id in deep_list: \n",
    "        y[idx][7] = 1 # add a 1 for each line (soundid) \"idx\" and the columns (label) 7....\n",
    "    if sound_id in punchy_list: \n",
    "        y[idx][8] = 1 # add a 1 for each line (soundid) \"idx\" and the columns (label) 8....\n",
    "    if sound_id in metallic_list: \n",
    "        y[idx][9] = 1 # add a 1 for each line (soundid) \"idx\" and the columns (label) 9....\n",
    "    if sound_id in sharp_list: \n",
    "        y[idx][10] = 1 # add a 1 for each line (soundid) \"idx\" and the columns (label) 10....´\n",
    "\n",
    "        \n",
    "Y = np.array(y)  \n",
    "#Y"
   ]
  },
  {
   "cell_type": "code",
   "execution_count": 72,
   "metadata": {
    "collapsed": false
   },
   "outputs": [
    {
     "data": {
      "text/plain": [
       "(4731, 11)"
      ]
     },
     "execution_count": 72,
     "metadata": {},
     "output_type": "execute_result"
    }
   ],
   "source": [
    "y.shape"
   ]
  },
  {
   "cell_type": "code",
   "execution_count": 73,
   "metadata": {
    "collapsed": false
   },
   "outputs": [
    {
     "data": {
      "text/plain": [
       "array([[0, 0, 0, ..., 0, 0, 0],\n",
       "       [0, 0, 1, ..., 0, 0, 0],\n",
       "       [0, 0, 0, ..., 0, 0, 0],\n",
       "       ..., \n",
       "       [0, 0, 0, ..., 0, 0, 0],\n",
       "       [1, 0, 0, ..., 0, 1, 0],\n",
       "       [0, 0, 0, ..., 0, 1, 0]])"
      ]
     },
     "execution_count": 73,
     "metadata": {},
     "output_type": "execute_result"
    }
   ],
   "source": [
    "Y"
   ]
  },
  {
   "cell_type": "code",
   "execution_count": 74,
   "metadata": {
    "collapsed": true
   },
   "outputs": [],
   "source": [
    "X_train, X_test, y_train, y_test = train_test_split(X, y, test_size=0.20, random_state=42)"
   ]
  },
  {
   "cell_type": "code",
   "execution_count": 75,
   "metadata": {
    "collapsed": false
   },
   "outputs": [
    {
     "data": {
      "text/plain": [
       "((3784, 20), (3784, 11))"
      ]
     },
     "execution_count": 75,
     "metadata": {},
     "output_type": "execute_result"
    }
   ],
   "source": [
    "X_train.shape, y_train.shape\n"
   ]
  },
  {
   "cell_type": "code",
   "execution_count": 76,
   "metadata": {
    "collapsed": false
   },
   "outputs": [
    {
     "data": {
      "text/plain": [
       "((947, 20), (947, 11))"
      ]
     },
     "execution_count": 76,
     "metadata": {},
     "output_type": "execute_result"
    }
   ],
   "source": [
    "X_test.shape, y_test.shape"
   ]
  },
  {
   "cell_type": "markdown",
   "metadata": {
    "collapsed": true
   },
   "source": [
    "# ML: TRAINING stage"
   ]
  },
  {
   "cell_type": "markdown",
   "metadata": {},
   "source": [
    "http://scikit-learn.org/stable/modules/svm.html\n",
    "\n",
    "1.4.6.1.3.Parameters of the RBF Kernel\n",
    "\n",
    "When training an SVM with the Radial Basis Function (RBF) kernel,two parameters must be considered: C and gamma.\n",
    "The parameter C, common to all SVM kernels, trades off misclassification of training examples against simplicity of the decision surface. A low C makes the decision surface smooth, while a high C aims at classifying all training examples correctly. Gamma defines how much influence a single training example has. The larger gamma is, the closer \n",
    "other examples must be to be affected."
   ]
  },
  {
   "cell_type": "code",
   "execution_count": 77,
   "metadata": {
    "collapsed": false
   },
   "outputs": [
    {
     "data": {
      "text/plain": [
       "OneVsRestClassifier(estimator=SVC(C=1, cache_size=200, class_weight=None, coef0=0.0,\n",
       "  decision_function_shape=None, degree=3, gamma='auto', kernel='rbf',\n",
       "  max_iter=-1, probability=False, random_state=None, shrinking=True,\n",
       "  tol=0.001, verbose=False),\n",
       "          n_jobs=1)"
      ]
     },
     "execution_count": 77,
     "metadata": {},
     "output_type": "execute_result"
    }
   ],
   "source": [
    "#TRAIN\n",
    "clf = OneVsRestClassifier(SVC(kernel='rbf',C=1))\n",
    "clf.fit(X, y)"
   ]
  },
  {
   "cell_type": "code",
   "execution_count": 78,
   "metadata": {
    "collapsed": false
   },
   "outputs": [
    {
     "data": {
      "text/plain": [
       "1.0"
      ]
     },
     "execution_count": 78,
     "metadata": {},
     "output_type": "execute_result"
    }
   ],
   "source": [
    "clf.score(X, y, sample_weight=None)"
   ]
  },
  {
   "cell_type": "code",
   "execution_count": 79,
   "metadata": {
    "collapsed": false
   },
   "outputs": [
    {
     "data": {
      "text/plain": [
       "array([ 0.09321497,  0.1027267 ,  0.08687381])"
      ]
     },
     "execution_count": 79,
     "metadata": {},
     "output_type": "execute_result"
    }
   ],
   "source": [
    "from sklearn.cross_validation import cross_val_score\n",
    "scores=cross_val_score(clf, X, y)\n",
    "scores"
   ]
  },
  {
   "cell_type": "code",
   "execution_count": null,
   "metadata": {
    "collapsed": true
   },
   "outputs": [],
   "source": []
  },
  {
   "cell_type": "markdown",
   "metadata": {
    "collapsed": true
   },
   "source": [
    "# ML: EVALUATION"
   ]
  },
  {
   "cell_type": "code",
   "execution_count": 27,
   "metadata": {
    "collapsed": false
   },
   "outputs": [
    {
     "data": {
      "text/plain": [
       "(1.0, 1.0, 1.0)"
      ]
     },
     "execution_count": 27,
     "metadata": {},
     "output_type": "execute_result"
    }
   ],
   "source": [
    "#The recall is the ratio tp / (tp + fn) \n",
    "#where tp is the number of true positives and fn the number of false negatives.\n",
    "#The recall is intuitively the ability of the classifier to find all the positive samples.\n",
    "y_true = y_test\n",
    "y_pred = clf.predict(X_test)\n",
    " \n",
    "x1 = recall_score(y_true, y_pred, average='micro') \n",
    "x2 = recall_score(y_true, y_pred, average='macro') \n",
    "x3 = recall_score(y_true, y_pred, average='weighted')\n",
    "x1,x2,x3"
   ]
  },
  {
   "cell_type": "code",
   "execution_count": 28,
   "metadata": {
    "collapsed": false
   },
   "outputs": [
    {
     "data": {
      "text/plain": [
       "(1.0, 1.0, 1.0)"
      ]
     },
     "execution_count": 28,
     "metadata": {},
     "output_type": "execute_result"
    }
   ],
   "source": [
    "#The precision is the ratio tp / (tp + fp) \n",
    "#where tp is the number of true positives and fp the number of false positives. \n",
    "#The precision is intuitively the ability of the classifier not to label as positive a sample that is negative.\n",
    "\n",
    "#from sklearn.metrics import precision_score\n",
    "\n",
    "macro_prec=precision_score(y_true, y_pred, average='macro') \n",
    "weigh_prec= precision_score(y_true, y_pred, average='weighted')\n",
    "micro_prec=precision_score(y_true, y_pred, average='micro')\n",
    "\n",
    "micro_prec, macro_prec, weigh_prec \n",
    "\n"
   ]
  },
  {
   "cell_type": "code",
   "execution_count": 29,
   "metadata": {
    "collapsed": false
   },
   "outputs": [
    {
     "data": {
      "text/plain": [
       "0.5"
      ]
     },
     "execution_count": 29,
     "metadata": {},
     "output_type": "execute_result"
    }
   ],
   "source": [
    "#ACCURACY\n",
    "\n",
    "y_true = X_train.shape\n",
    "y_pred = X_test.shape\n",
    "accuracy_score(y_true, y_pred)\n",
    "\n"
   ]
  },
  {
   "cell_type": "code",
   "execution_count": 30,
   "metadata": {
    "collapsed": false
   },
   "outputs": [
    {
     "name": "stdout",
     "output_type": "stream",
     "text": [
      "             precision    recall  f1-score   support\n",
      "\n",
      "     bright       1.00      1.00      1.00        94\n",
      "       warm       1.00      1.00      1.00        91\n",
      "       hard       1.00      1.00      1.00        91\n",
      "      rough       1.00      1.00      1.00       102\n",
      "     reverb       1.00      1.00      1.00        91\n",
      "      clear       1.00      1.00      1.00        96\n",
      "     hollow       1.00      1.00      1.00       108\n",
      "       deep       1.00      1.00      1.00       102\n",
      "     punchy       1.00      1.00      1.00        84\n",
      "   metallic       1.00      1.00      1.00       118\n",
      "      sharp       1.00      1.00      1.00        96\n",
      "\n",
      "avg / total       1.00      1.00      1.00      1073\n",
      "\n"
     ]
    }
   ],
   "source": [
    "#TEST....classification report\n",
    "#NEED TO CHECK PRECISION AND RECALL...\n",
    "\n",
    "#from sklearn.metrics import classification_report\n",
    "#y_test = clf.predict(y_test) takes it from above\n",
    "y_pred = clf.predict(X_test)\n",
    "categories = ['bright', 'warm', 'hard', 'rough','reverb','clear','hollow','deep','punchy','metallic','sharp']\n",
    "print(classification_report(y_test, y_pred, target_names=categories))"
   ]
  },
  {
   "cell_type": "code",
   "execution_count": 31,
   "metadata": {
    "collapsed": false
   },
   "outputs": [
    {
     "data": {
      "text/plain": [
       "array([[0, 0, 1, ..., 0, 0, 0],\n",
       "       [0, 0, 0, ..., 0, 0, 0],\n",
       "       [0, 0, 0, ..., 0, 0, 0],\n",
       "       ..., \n",
       "       [1, 0, 0, ..., 0, 0, 0],\n",
       "       [0, 0, 0, ..., 0, 1, 0],\n",
       "       [0, 0, 0, ..., 0, 0, 0]])"
      ]
     },
     "execution_count": 31,
     "metadata": {},
     "output_type": "execute_result"
    }
   ],
   "source": [
    "#checking value within y_pred matrix\n",
    "y_pred"
   ]
  },
  {
   "cell_type": "code",
   "execution_count": 32,
   "metadata": {
    "collapsed": false
   },
   "outputs": [
    {
     "data": {
      "text/plain": [
       "1.0"
      ]
     },
     "execution_count": 32,
     "metadata": {},
     "output_type": "execute_result"
    }
   ],
   "source": [
    "#F-measure\n",
    "#F_measure = 2*p*r/p+r\n",
    "\n",
    "F_measure =2*x1*macro_prec/(x1+macro_prec)\n",
    "F_measure"
   ]
  },
  {
   "cell_type": "code",
   "execution_count": 41,
   "metadata": {
    "collapsed": true
   },
   "outputs": [],
   "source": []
  },
  {
   "cell_type": "markdown",
   "metadata": {},
   "source": [
    "# PLOTTING DISTRIBUTIONS"
   ]
  },
  {
   "cell_type": "code",
   "execution_count": null,
   "metadata": {
    "collapsed": true
   },
   "outputs": [],
   "source": [
    "#FOR PLOTTING DISTRIBUTION OF ALL IDS. NOT VERY INFORMATIVE. SO JUST COMMENTED\n",
    "\n",
    "#creating matrix X\n",
    "X = []  #all features_not used yet\n",
    "\n",
    "#creating matrix to compute mean of the descriptors\n",
    "sc_mean = []\n",
    "sflux_mean = []\n",
    "mfcc_mean = []\n",
    "zcr_mean = []\n",
    "trist_mean = []\n",
    "oteher_mean = []\n",
    "\n",
    "for fs_id in data:\n",
    "    #vector with all the features...not used now\n",
    "    #feature_vector = data[fs_id][\"analysis_stats\"][\"lowlevel\"][\"spectral_centroid\"],data[fs_id][\"analysis_stats\"][\"lowlevel\"][\"spectral_flux\"],data[fs_id][\"analysis_stats\"][\"lowlevel\"][\"mfcc\"],data[fs_id][\"analysis_stats\"][\"sfx\"][\"tristimulus\"],data[fs_id][\"analysis_stats\"][\"sfx\"][\"oddtoevenharmonicenergyratio\"],data[fs_id][\"analysis_stats\"][\"lowlevel\"][\"zerocrossingrate\"]\n",
    "\n",
    "    #example for the mean of different descriptores\n",
    "    feature_vector_sc_mean = data[fs_id][\"analysis_stats\"][\"lowlevel\"][\"spectral_centroid\"][\"mean\"]\n",
    "    feature_vector_sflux_mean = data[fs_id][\"analysis_stats\"][\"lowlevel\"][\"spectral_flux\"][\"mean\"]\n",
    "    feature_vector_mfcc_mean = data[fs_id][\"analysis_stats\"][\"lowlevel\"][\"mfcc\"][\"mean\"]\n",
    "    feature_vector_zcr_mean = data[fs_id][\"analysis_stats\"][\"lowlevel\"][\"zerocrossingrate\"][\"mean\"]\n",
    "    feature_vector_trist_mean = data[fs_id][\"analysis_stats\"][\"sfx\"][\"tristimulus\"][\"mean\"]\n",
    "    feature_vector_oteher_mean = data[fs_id][\"analysis_stats\"][\"sfx\"][\"oddtoevenharmonicenergyratio\"][\"mean\"]\n",
    "    \n",
    "    #Appending values...\n",
    "    #X.append(feature_vector)  #not used now\n",
    "    sc_mean.append(feature_vector_sc_mean)\n",
    "    sflux_mean.append(feature_vector_sflux_mean)\n",
    "    mfcc_mean.append(feature_vector_mfcc_mean)\n",
    "    zcr_mean.append(feature_vector_zcr_mean)\n",
    "    trist_mean.append(feature_vector_trist_mean)\n",
    "    oteher_mean.append(feature_vector_oteher_mean)\n",
    "    \n",
    "    \n",
    "#all features, not used at the moment   \n",
    "#X = np.array(X)\n",
    "\n",
    "sc_mean = np.array(sc_mean)\n",
    "sflux_mean = np.array(sflux_mean)\n",
    "mfcc_mean = np.array(mfcc_mean)\n",
    "zcr_mean = np.array(zcr_mean)\n",
    "trist_mean = np.array(trist_mean)\n",
    "oteher_mean = np.array(oteher_mean)\n",
    "\n",
    "#Not used at the moment as aforementioned\n",
    "#len(feature_vector) \n",
    "#len(X)\n",
    "#X  #printing out matrix "
   ]
  },
  {
   "cell_type": "code",
   "execution_count": 31,
   "metadata": {
    "collapsed": false
   },
   "outputs": [
    {
     "data": {
      "text/plain": [
       "[<matplotlib.lines.Line2D at 0x11527ca10>]"
      ]
     },
     "execution_count": 31,
     "metadata": {},
     "output_type": "execute_result"
    },
    {
     "data": {
      "image/png": "[encoded data removed]",
      "text/plain": [
       "<matplotlib.figure.Figure at 0x114ca9d10>"
      ]
     },
     "metadata": {},
     "output_type": "display_data"
    }
   ],
   "source": [
    "plt.title ('All_IDs SPECTRAL CENTROID MEAN')\n",
    "plt.plot(sc_mean)"
   ]
  },
  {
   "cell_type": "code",
   "execution_count": 32,
   "metadata": {
    "collapsed": false
   },
   "outputs": [
    {
     "data": {
      "text/plain": [
       "[<matplotlib.lines.Line2D at 0x115582290>]"
      ]
     },
     "execution_count": 32,
     "metadata": {},
     "output_type": "execute_result"
    },
    {
     "data": {
      "image/png": "[encoded data removed]",
      "text/plain": [
       "<matplotlib.figure.Figure at 0x114c2ac90>"
      ]
     },
     "metadata": {},
     "output_type": "display_data"
    }
   ],
   "source": [
    "plt.title ('All_IDs SPECTRAL FLUX MEAN')\n",
    "plt.plot(sflux_mean)\n"
   ]
  },
  {
   "cell_type": "code",
   "execution_count": 33,
   "metadata": {
    "collapsed": false
   },
   "outputs": [
    {
     "data": {
      "text/plain": [
       "[<matplotlib.lines.Line2D at 0x115799490>,\n",
       " <matplotlib.lines.Line2D at 0x115799710>,\n",
       " <matplotlib.lines.Line2D at 0x115799950>,\n",
       " <matplotlib.lines.Line2D at 0x115799b10>,\n",
       " <matplotlib.lines.Line2D at 0x115799cd0>,\n",
       " <matplotlib.lines.Line2D at 0x115799e90>,\n",
       " <matplotlib.lines.Line2D at 0x1157a4090>,\n",
       " <matplotlib.lines.Line2D at 0x1155da990>,\n",
       " <matplotlib.lines.Line2D at 0x1157a4410>,\n",
       " <matplotlib.lines.Line2D at 0x1157a45d0>,\n",
       " <matplotlib.lines.Line2D at 0x1157a4790>,\n",
       " <matplotlib.lines.Line2D at 0x1157a4950>,\n",
       " <matplotlib.lines.Line2D at 0x1157a4b10>]"
      ]
     },
     "execution_count": 33,
     "metadata": {},
     "output_type": "execute_result"
    },
    {
     "data": {
      "image/png": "[encoded data removed]",
      "text/plain": [
       "<matplotlib.figure.Figure at 0x11147f410>"
      ]
     },
     "metadata": {},
     "output_type": "display_data"
    }
   ],
   "source": [
    "plt.title ('All_IDs MFCC MEAN')\n",
    "\n",
    "plt.plot(mfcc_mean)\n"
   ]
  },
  {
   "cell_type": "code",
   "execution_count": 34,
   "metadata": {
    "collapsed": false
   },
   "outputs": [
    {
     "data": {
      "text/plain": [
       "[<matplotlib.lines.Line2D at 0x115a865d0>]"
      ]
     },
     "execution_count": 34,
     "metadata": {},
     "output_type": "execute_result"
    },
    {
     "data": {
      "image/png": "[encoded data removed]",
      "text/plain": [
       "<matplotlib.figure.Figure at 0x114f41ad0>"
      ]
     },
     "metadata": {},
     "output_type": "display_data"
    }
   ],
   "source": [
    "plt.title ('All_IDs ZCR MEAN')\n",
    "\n",
    "plt.plot(zcr_mean)\n"
   ]
  },
  {
   "cell_type": "code",
   "execution_count": 35,
   "metadata": {
    "collapsed": false
   },
   "outputs": [
    {
     "data": {
      "text/plain": [
       "[<matplotlib.lines.Line2D at 0x115d53110>,\n",
       " <matplotlib.lines.Line2D at 0x115d8ffd0>,\n",
       " <matplotlib.lines.Line2D at 0x115d9d250>]"
      ]
     },
     "execution_count": 35,
     "metadata": {},
     "output_type": "execute_result"
    },
    {
     "data": {
      "image/png": "[encoded data removed]",
      "text/plain": [
       "<matplotlib.figure.Figure at 0x113a00810>"
      ]
     },
     "metadata": {},
     "output_type": "display_data"
    }
   ],
   "source": [
    "plt.title ('All_IDs TRISTIMULUS MEAN')\n",
    "plt.plot(trist_mean)\n"
   ]
  },
  {
   "cell_type": "code",
   "execution_count": 36,
   "metadata": {
    "collapsed": false
   },
   "outputs": [
    {
     "data": {
      "text/plain": [
       "[<matplotlib.lines.Line2D at 0x116353990>]"
      ]
     },
     "execution_count": 36,
     "metadata": {},
     "output_type": "execute_result"
    },
    {
     "data": {
      "image/png": "[encoded data removed]",
      "text/plain": [
       "<matplotlib.figure.Figure at 0x1152d4910>"
      ]
     },
     "metadata": {},
     "output_type": "display_data"
    }
   ],
   "source": [
    "plt.title ('All_IDs OddtoEvenHarmonicRatio MEAN')\n",
    "plt.plot(oteher_mean)"
   ]
  },
  {
   "cell_type": "code",
   "execution_count": null,
   "metadata": {
    "collapsed": true
   },
   "outputs": [],
   "source": []
  }
 ],
 "metadata": {
  "kernelspec": {
   "display_name": "Python 2",
   "language": "python",
   "name": "python2"
  },
  "language_info": {
   "codemirror_mode": {
    "name": "ipython",
    "version": 2
   },
   "file_extension": ".py",
   "mimetype": "text/x-python",
   "name": "python",
   "nbconvert_exporter": "python",
   "pygments_lexer": "ipython2",
   "version": "2.7.10"
  }
 },
 "nbformat": 4,
 "nbformat_minor": 2
}
